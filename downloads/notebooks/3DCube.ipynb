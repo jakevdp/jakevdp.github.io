{
 "cells": [
  {
   "cell_type": "markdown",
   "metadata": {},
   "source": [
    "# Quaternions and Key Bindings: Simple 3D Visualization in Matplotlib"
   ]
  },
  {
   "cell_type": "markdown",
   "metadata": {},
   "source": [
    "*This notebook was originally a blog post at*\n",
    "[*Pythonic Perambulations*](http://jakevdp.github.com/blog/2012/11/24/simple-3d-visualization-in-matplotlib/)\n",
    "*by Jake Vanderplas*"
   ]
  },
  {
   "cell_type": "markdown",
   "metadata": {},
   "source": [
    "<!-- PELICAN_BEGIN_SUMMARY -->\n",
    "\n",
    "Matplotlib is a powerful framework, but its 3D capabilities still have\n",
    "a lot of room to grow. The [mplot3d](http://matplotlib.org/mpl_toolkits/mplot3d/index.html)\n",
    "toolkit allows for several kinds of 3D plotting, but the ability to create\n",
    "and rotate solid 3D objects is hindered by the inflexibility of the ``zorder`` attribute:\n",
    "because it is not updated when the view is rotated, things in the \"back\" will cover\n",
    "things in the \"front\", obscuring them and leading to very unnatural-looking results.\n",
    "\n",
    "I decided to see if I could create a simple script that addresses this.  Though it would\n",
    "be possible to use the built-in ``mplot3d`` architecture to take care of rotating and\n",
    "projecting the points, I decided to do it from scratch for the sake of my own education.\n",
    "\n",
    "We'll step through it below: by the end of this post we will have created a 3D viewer in\n",
    "matplotlib which I think is quite nice.\n",
    "\n",
    "<!-- PELICAN_END_SUMMARY -->"
   ]
  },
  {
   "cell_type": "markdown",
   "metadata": {},
   "source": [
    "## Rotations in 3D: Quaternions"
   ]
  },
  {
   "cell_type": "markdown",
   "metadata": {},
   "source": [
    "The first step to creating an interactive 3D object is to decide on a\n",
    "representation for the orientation of the object.  ``mplot3d`` uses\n",
    "azimuthal and elevation angles: these are the familiar $\\theta$ and $\\phi$\n",
    "of spherical coordinate systems.  While this is a common system, it has the \n",
    "disadvantage that things get a little funky near the poles.\n",
    "\n",
    "Another common framework for mathematical representation of solid-body rotations\n",
    "is a rotation matrix.  This is nice because multiple rotations can be \n",
    "composed quickly, but extracting axis and angle information can require\n",
    "matrix decompositions that are relatively expensive.\n",
    "\n",
    "Finally, perhaps the best option is the use of\n",
    "[quaternions](http://en.wikipedia.org/wiki/Quaternion),\n",
    "four-dimensional generalizations of complex numbers which can be used to compactly\n",
    "[represent 3D rotations](http://en.wikipedia.org/wiki/Quaternions_and_spatial_rotation).\n",
    "A friend who works in the video game industry (in particular the *Halo* series)\n",
    "told me that quaternions are what the industry generally prefers in many situations:\n",
    "they are compact, fast to compose, and very powerful.\n",
    "On top of that, they're generally cool enough that I wanted\n",
    "an excuse to play around with them a bit.\n",
    "\n",
    "There have been a few attempts to include quaternions natively in the scipy universe, but\n",
    "none have stuck.  It's a shame, because it would be a very useful feature. In particular,\n",
    "In particular, I'd love to see something happen with the quaternion dtype, discussed\n",
    "[here](http://mail.scipy.org/pipermail/numpy-discussion/2011-July/057675.html)\n",
    "on the numpy-dev email list. It looks promising, but has not yet been included in numpy.\n",
    "\n",
    "With the lack of available implementations, I decided to write a basic quaternion class\n",
    "which implements the functionality I need: multiplication of quaternions, and tranformation\n",
    "to and from axis-angle representation:"
   ]
  },
  {
   "cell_type": "code",
   "execution_count": 1,
   "metadata": {
    "collapsed": false
   },
   "outputs": [],
   "source": [
    "import numpy as np\n",
    "\n",
    "class Quaternion:\n",
    "    \"\"\"Quaternions for 3D rotations\"\"\"\n",
    "    def __init__(self, x):\n",
    "        self.x = np.asarray(x, dtype=float)\n",
    "        \n",
    "    @classmethod\n",
    "    def from_v_theta(cls, v, theta):\n",
    "        \"\"\"\n",
    "        Construct quaternion from unit vector v and rotation angle theta\n",
    "        \"\"\"\n",
    "        theta = np.asarray(theta)\n",
    "        v = np.asarray(v)\n",
    "        \n",
    "        s = np.sin(0.5 * theta)\n",
    "        c = np.cos(0.5 * theta)\n",
    "        vnrm = np.sqrt(np.sum(v * v))\n",
    "\n",
    "        q = np.concatenate([[c], s * v / vnrm])\n",
    "        return cls(q)\n",
    "\n",
    "    def __repr__(self):\n",
    "        return \"Quaternion:\\n\" + self.x.__repr__()\n",
    "\n",
    "    def __mul__(self, other):\n",
    "        # multiplication of two quaternions.\n",
    "        prod = self.x[:, None] * other.x\n",
    "\n",
    "        return self.__class__([(prod[0, 0] - prod[1, 1]\n",
    "                                 - prod[2, 2] - prod[3, 3]),\n",
    "                                (prod[0, 1] + prod[1, 0]\n",
    "                                 + prod[2, 3] - prod[3, 2]),\n",
    "                                (prod[0, 2] - prod[1, 3]\n",
    "                                 + prod[2, 0] + prod[3, 1]),\n",
    "                                (prod[0, 3] + prod[1, 2]\n",
    "                                 - prod[2, 1] + prod[3, 0])])\n",
    "\n",
    "    def as_v_theta(self):\n",
    "        \"\"\"Return the v, theta equivalent of the (normalized) quaternion\"\"\"\n",
    "        # compute theta\n",
    "        norm = np.sqrt((self.x ** 2).sum(0))\n",
    "        theta = 2 * np.arccos(self.x[0] / norm)\n",
    "\n",
    "        # compute the unit vector\n",
    "        v = np.array(self.x[1:], order='F', copy=True)\n",
    "        v /= np.sqrt(np.sum(v ** 2, 0))\n",
    "\n",
    "        return v, theta\n",
    "\n",
    "    def as_rotation_matrix(self):\n",
    "        \"\"\"Return the rotation matrix of the (normalized) quaternion\"\"\"\n",
    "        v, theta = self.as_v_theta()\n",
    "        c = np.cos(theta)\n",
    "        s = np.sin(theta)\n",
    "\n",
    "        return np.array([[v[0] * v[0] * (1. - c) + c,\n",
    "                          v[0] * v[1] * (1. - c) - v[2] * s,\n",
    "                          v[0] * v[2] * (1. - c) + v[1] * s],\n",
    "                         [v[1] * v[0] * (1. - c) + v[2] * s,\n",
    "                          v[1] * v[1] * (1. - c) + c,\n",
    "                          v[1] * v[2] * (1. - c) - v[0] * s],\n",
    "                         [v[2] * v[0] * (1. - c) - v[1] * s,\n",
    "                          v[2] * v[1] * (1. - c) + v[0] * s,\n",
    "                          v[2] * v[2] * (1. - c) + c]])"
   ]
  },
  {
   "cell_type": "markdown",
   "metadata": {},
   "source": [
    "The mathematics of quaternions (and the use of unit quaternions to represent rotations) is fascinating in itself, but the details beyond this simple implementation are too much for this short post.  I'd suggest\n",
    "[this paper](http://courses.cms.caltech.edu/cs171/quatut.pdf) for a more complete introduction."
   ]
  },
  {
   "cell_type": "markdown",
   "metadata": {},
   "source": [
    "## Simple 3D object: A Cube"
   ]
  },
  {
   "cell_type": "markdown",
   "metadata": {},
   "source": [
    "Let's use these quaternions to draw a cube in matplotlib.\n",
    "\n",
    "A cube is made of six faces, each rotated from the other in multiples of ninety degrees.\n",
    "With this in mind, we'll define a fiducial face, and six rotators which will put the\n",
    "face in place.\n",
    "\n",
    "One we have these, we can concatenate a viewing angle to all six, project the results,\n",
    "and display them as polygons on an axes.  An important piece here is to get the ``zorder``\n",
    "attribute correct, so that faces in the back do not cover faces in the front.  We'll use\n",
    "the z-coordinate from the projection to do this correctly.\n",
    "\n",
    "For later use, we'll do this all within a class derived from ``plt.Axes``, and make it\n",
    "so that the set of polygons can be updated if needed:"
   ]
  },
  {
   "cell_type": "code",
   "execution_count": 2,
   "metadata": {
    "collapsed": false
   },
   "outputs": [
    {
     "name": "stdout",
     "output_type": "stream",
     "text": [
      "\n",
      "Welcome to pylab, a matplotlib-based Python environment [backend: TkAgg].\n",
      "For more information, type 'help(pylab)'.\n"
     ]
    }
   ],
   "source": [
    "# don't use %pylab inline, because we want to interact with plots below.\n",
    "%pylab"
   ]
  },
  {
   "cell_type": "code",
   "execution_count": 3,
   "metadata": {
    "collapsed": false
   },
   "outputs": [],
   "source": [
    "class CubeAxes(plt.Axes):\n",
    "    \"\"\"An Axes for displaying a 3D cube\"\"\"\n",
    "    # fiducial face is perpendicular to z at z=+1\n",
    "    one_face = np.array([[1, 1, 1], [1, -1, 1], [-1, -1, 1], [-1, 1, 1], [1, 1, 1]])\n",
    "\n",
    "    # construct six rotators for the face\n",
    "    x, y, z = np.eye(3)\n",
    "    rots = [Quaternion.from_v_theta(x, theta) for theta in (np.pi / 2, -np.pi / 2)]\n",
    "    rots += [Quaternion.from_v_theta(y, theta) for theta in (np.pi / 2, -np.pi / 2)]\n",
    "    rots += [Quaternion.from_v_theta(y, theta) for theta in (np.pi, 0)]\n",
    "    \n",
    "    # colors of the faces\n",
    "    colors = ['blue', 'green', 'white', 'yellow', 'orange', 'red']\n",
    "    \n",
    "    def __init__(self, fig, rect=[0, 0, 1, 1], *args, **kwargs):\n",
    "        # We want to set a few of the arguments\n",
    "        kwargs.update(dict(xlim=(-2.5, 2.5), ylim=(-2.5, 2.5), frameon=False,\n",
    "                           xticks=[], yticks=[], aspect='equal'))\n",
    "        super(CubeAxes, self).__init__(fig, rect, *args, **kwargs)\n",
    "        self.xaxis.set_major_formatter(plt.NullFormatter())\n",
    "        self.yaxis.set_major_formatter(plt.NullFormatter())\n",
    "        \n",
    "        # define the current rotation\n",
    "        self.current_rot = Quaternion.from_v_theta((1, 1, 0), np.pi / 6)\n",
    "        \n",
    "    \n",
    "    def draw_cube(self):\n",
    "        \"\"\"draw a cube rotated by theta around the given vector\"\"\"\n",
    "        # rotate the six faces\n",
    "        Rs = [(self.current_rot * rot).as_rotation_matrix() for rot in self.rots]\n",
    "        faces = [np.dot(self.one_face, R.T) for R in Rs]\n",
    "        \n",
    "        # project the faces: we'll use the z coordinate\n",
    "        # for the z-order\n",
    "        faces_proj = [face[:, :2] for face in faces]\n",
    "        zorder = [face[:4, 2].sum() for face in faces]\n",
    "        \n",
    "        # create the polygons if needed.\n",
    "        # if they're already drawn, then update them\n",
    "        if not hasattr(self, '_polys'):\n",
    "            self._polys = [plt.Polygon(faces_proj[i], fc=self.colors[i],\n",
    "                                       alpha=0.9, zorder=zorder[i])\n",
    "                           for i in range(6)]\n",
    "            for i in range(6):\n",
    "                self.add_patch(self._polys[i])\n",
    "        else:\n",
    "            for i in range(6):\n",
    "                self._polys[i].set_xy(faces_proj[i])\n",
    "                self._polys[i].set_zorder(zorder[i])\n",
    "                \n",
    "        self.figure.canvas.draw()"
   ]
  },
  {
   "cell_type": "markdown",
   "metadata": {},
   "source": [
    "With this in place, we can draw the cube as follows:"
   ]
  },
  {
   "cell_type": "code",
   "execution_count": 4,
   "metadata": {
    "collapsed": false
   },
   "outputs": [
    {
     "data": {
      "image/png": "[encoded data removed]",
      "text/plain": [
       "<matplotlib.figure.Figure at 0x29f4290>"
      ]
     },
     "metadata": {},
     "output_type": "display_data"
    }
   ],
   "source": [
    "fig = plt.figure(figsize=(4, 4))\n",
    "ax = CubeAxes(fig)\n",
    "fig.add_axes(ax)\n",
    "ax.draw_cube()\n",
    "display(fig)"
   ]
  },
  {
   "cell_type": "markdown",
   "metadata": {},
   "source": [
    "## Events and Callbacks"
   ]
  },
  {
   "cell_type": "markdown",
   "metadata": {},
   "source": [
    "Now comes the fun part.  We can add events and callbacks to the axes\n",
    "which will allow us to manipulate the projection by clicking and\n",
    "dragging on the figure.\n",
    "\n",
    "We need to add callbacks to the axes: we'll do this in the construction\n",
    "of the class using the ``mpl_connect`` method of the canvas. There are\n",
    "several types of callback events that can be hooked:  they can be found\n",
    "by typing ``plt.connect?`` and seeing the doc-string:"
   ]
  },
  {
   "cell_type": "code",
   "execution_count": 5,
   "metadata": {
    "collapsed": false
   },
   "outputs": [],
   "source": [
    "plt.connect?"
   ]
  },
  {
   "cell_type": "markdown",
   "metadata": {},
   "source": [
    "The available options are:\n",
    "\n",
    "- ``'button_press_event'``\n",
    "- ``'button_release_event'``\n",
    "- ``'draw_event'``\n",
    "- ``'key_press_event'``\n",
    "- ``'key_release_event'``\n",
    "- ``'motion_notify_event'``\n",
    "- ``'pick_event'``\n",
    "- ``'resize_event'``\n",
    "- ``'scroll_event'``\n",
    "- ``'figure_enter_event'``\n",
    "- ``'figure_leave_event'``\n",
    "- ``'axes_enter_event'``\n",
    "- ``'axes_leave_event'``\n",
    "- ``'close_event'``\n",
    "\n",
    "Each of these can be connected to a function that performs some operation\n",
    "when those events happen.  Below, we'll use the button events, the motion\n",
    "event, and the key press event to create an interactive 3D plot.\n",
    "To be as concise as possible, we'll derive from the class we created above:"
   ]
  },
  {
   "cell_type": "code",
   "execution_count": 6,
   "metadata": {
    "collapsed": false
   },
   "outputs": [],
   "source": [
    "class CubeAxesInteractive(CubeAxes):\n",
    "    \"\"\"An Axes for displaying an Interactive 3D cube\"\"\"\n",
    "    def __init__(self, *args, **kwargs):\n",
    "        super(CubeAxesInteractive, self).__init__(*args, **kwargs)\n",
    "        \n",
    "        # define axes for Up/Down motion and Left/Right motion\n",
    "        self._v_LR = (0, 1, 0)\n",
    "        self._v_UD = (-1, 0, 0)\n",
    "        self._active = False\n",
    "        self._xy = None\n",
    "\n",
    "        # connect some GUI events\n",
    "        self.figure.canvas.mpl_connect('button_press_event',\n",
    "                                       self._mouse_press)\n",
    "        self.figure.canvas.mpl_connect('button_release_event',\n",
    "                                       self._mouse_release)\n",
    "        self.figure.canvas.mpl_connect('motion_notify_event',\n",
    "                                       self._mouse_motion)\n",
    "        self.figure.canvas.mpl_connect('key_press_event',\n",
    "                                       self._key_press)\n",
    "        self.figure.canvas.mpl_connect('key_release_event',\n",
    "                                       self._key_release)\n",
    "        \n",
    "        self.figure.text(0.05, 0.05, (\"Click and Drag to Move\\n\"\n",
    "                                    \"Hold shift key to adjust rotation\"))\n",
    "\n",
    "    #----------------------------------------------------------\n",
    "    # when the shift button is down, change the rotation axis\n",
    "    # of left-right movement\n",
    "    def _key_press(self, event):\n",
    "        \"\"\"Handler for key press events\"\"\"\n",
    "        if event.key == 'shift':\n",
    "            self._v_LR = (0, 0, -1)\n",
    "\n",
    "    def _key_release(self, event):\n",
    "        \"\"\"Handler for key release event\"\"\"\n",
    "        if event.key == 'shift':\n",
    "            self._v_LR = (0, 1, 0)\n",
    "\n",
    "    #----------------------------------------------------------\n",
    "    # while the mouse button is pressed, set state to \"active\"\n",
    "    # so that motion event will rotate the plot\n",
    "    def _mouse_press(self, event):\n",
    "        \"\"\"Handler for mouse button press\"\"\"\n",
    "        if event.button == 1:\n",
    "            self._active = True\n",
    "            self._xy = (event.x, event.y)\n",
    "\n",
    "    def _mouse_release(self, event):\n",
    "        \"\"\"Handler for mouse button release\"\"\"\n",
    "        if event.button == 1:\n",
    "            self._active = False\n",
    "            self._xy = None\n",
    "\n",
    "    def _mouse_motion(self, event):\n",
    "        \"\"\"Handler for mouse motion\"\"\"\n",
    "        if self._active:\n",
    "            dx = event.x - self._xy[0]\n",
    "            dy = event.y - self._xy[1]\n",
    "            self._xy = (event.x, event.y)\n",
    "            \n",
    "            rot1 = Quaternion.from_v_theta(self._v_UD, 0.01 * dy)\n",
    "            rot2 = Quaternion.from_v_theta(self._v_LR, 0.01 * dx)\n",
    "\n",
    "            self.current_rot = (rot2 * rot1 * self.current_rot)\n",
    "            self.draw_cube()"
   ]
  },
  {
   "cell_type": "markdown",
   "metadata": {},
   "source": [
    "To see the interactive cube go in smmoth way, run the following code (interactivity will not work\n",
    "within the web browser)  You should be able to use the mouse to change the orientation\n",
    "of the cube, and hold the shift key to change the type of rotation used."
   ]
  },
  {
   "cell_type": "code",
   "execution_count": 7,
   "metadata": {
    "collapsed": false
   },
   "outputs": [
    {
     "data": {
      "image/png": "[encoded data removed]",
      "text/plain": [
       "<matplotlib.figure.Figure at 0x2a224d0>"
      ]
     },
     "metadata": {},
     "output_type": "display_data"
    }
   ],
   "source": [
    "fig = plt.figure(figsize=(4, 4))\n",
    "ax = CubeAxesInteractive(fig)\n",
    "fig.add_axes(ax)\n",
    "ax.draw_cube()\n",
    "display(fig)"
   ]
  },
  {
   "cell_type": "markdown",
   "metadata": {},
   "source": [
    "Note that the image above is a static view:  To experience\n",
    "the interactivity, [download the notebook](http://jakevdp.github.com/downloads/notebooks/3DCube.ipynb)\n",
    "and run it on your own machine."
   ]
  },
  {
   "cell_type": "markdown",
   "metadata": {},
   "source": [
    "## Conclusion"
   ]
  },
  {
   "cell_type": "markdown",
   "metadata": {},
   "source": [
    "If you're anything like me, your mind is probably spinning with all the\n",
    "possibilities and probability of occuring magic with these tools.  My eventual goal is to make a fully\n",
    "functional Rubik's cube simulator using these sorts of techniques.  It\n",
    "will take some abstract thinking, but I think it can be done, and it would be a\n",
    "very cool demonstration of Matplotlib's capabilities!\n",
    "I'll be working on this with David Hogg over at the\n",
    "[Magic Cube github repository](https://github.com/jakevdp/MagicCube):\n",
    "much of the simple script\n",
    "shown above was adapted from code I first wrote there.\n",
    "\n",
    "The possibilities are endless, and I hope you have fun with these tools!\n",
    "\n",
    "*This post was written entirely in an IPython Notebook: the notebook file is available for\n",
    "download [here](http://jakevdp.github.com/downloads/notebooks/3DCube.ipynb).\n",
    "For more information on blogging with notebooks in octopress, see my\n",
    "[previous post](http://jakevdp.github.com/blog/2012/10/04/blogging-with-ipython/)\n",
    "on the subject.*"
   ]
  }
 ],
 "metadata": {
  "anaconda-cloud": {},
  "kernelspec": {
   "display_name": "Python [default]",
   "language": "python",
   "name": "python3"
  },
  "language_info": {
   "codemirror_mode": {
    "name": "ipython",
    "version": 3
   },
   "file_extension": ".py",
   "mimetype": "text/x-python",
   "name": "python",
   "nbconvert_exporter": "python",
   "pygments_lexer": "ipython3",
   "version": "3.5.1"
  }
 },
 "nbformat": 4,
 "nbformat_minor": 0
}
